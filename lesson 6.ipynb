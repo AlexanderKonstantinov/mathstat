{
 "cells": [
  {
   "cell_type": "code",
   "execution_count": 163,
   "metadata": {},
   "outputs": [],
   "source": [
    "import numpy as np\n",
    "import pandas as pd\n",
    "import pylab\n",
    "import scipy.stats as stats\n",
    "from math import sqrt\n",
    "from scipy.special import stdtrit as tcrit\n",
    "import matplotlib as plt"
   ]
  },
  {
   "cell_type": "markdown",
   "metadata": {},
   "source": [
    "## Урок 6. Взаимосвязь величин. Параметрические и непараметрические показатели корреляции. Корреляционный анализ."
   ]
  },
  {
   "cell_type": "markdown",
   "metadata": {},
   "source": [
    "### 1. Даны значения величины заработной платы заемщиков банка (zp) и значения их поведенческого кредитного скоринга (ks):\n",
    "zp = [35, 45, 190, 200, 40, 70, 54, 150, 120, 110],  \n",
    "ks = [401, 574, 874, 919, 459, 739, 653, 902, 746, 832].  \n",
    "Найдите ковариацию этих двух величин с помощью элементарных действий, а затем с помощью функции cov из numpy  \n",
    "Полученные значения должны быть равны.  \n",
    "Найдите коэффициент корреляции Пирсона с помощью ковариации и среднеквадратичных отклонений двух признаков,\n",
    "а затем с использованием функций из библиотек numpy и pandas.\n",
    "\n",
    "### Решение:"
   ]
  },
  {
   "cell_type": "code",
   "execution_count": 136,
   "metadata": {},
   "outputs": [
    {
     "name": "stdout",
     "output_type": "stream",
     "text": [
      "\n",
      "Parameter\t\thand\tnumpy\tpandas\tscipy\n",
      "Covariation\t\t9157.84\t10175.4\t10175.4\t-\n",
      "Coeff. correlation\t0.88749\t0.88749\t0.88749\t0.88749\n",
      "\n"
     ]
    }
   ],
   "source": [
    "zp = np.array([35, 45, 190, 200, 40, 70, 54, 150, 120, 110])\n",
    "ks = np.array([401, 574, 874, 919, 459, 739, 653, 902, 746, 832])\n",
    "\n",
    "# Method 1\n",
    "M_zpks = (zp * ks).mean()\n",
    "M_zp = zp.mean()\n",
    "M_ks = ks.mean()\n",
    "cov_1 = M_zpks - M_zp * M_ks\n",
    "\n",
    "s_zp = sqrt(sum(map(lambda x: pow(x - M_zp, 2), zp)) / (zp.shape[0] - 1))\n",
    "s_ks = sqrt(sum(map(lambda x: pow(x - M_ks, 2), ks)) / (ks.shape[0] - 1))\n",
    "cor_1 = cov_2 / (s_zp * s_ks)\n",
    "\n",
    "# Method 2\n",
    "cov_2 = np.cov(zp, ks, ddof=1)[1][0]\n",
    "cor_2 = np.corrcoef(zp, ks)[1][0]\n",
    "\n",
    "# Method 3\n",
    "cov_3 = pd.Series(zp).cov(pd.Series(ks))\n",
    "cor_3 = pd.Series(zp).corr(pd.Series(ks))\n",
    "\n",
    "# Method 4\n",
    "cor_4 = stats.pearsonr(zp, ks)[0]\n",
    "\n",
    "print(f'''\n",
    "Parameter\\t\\thand\\tnumpy\\tpandas\\tscipy\n",
    "Covariation\\t\\t{cov_1:.6}\\t{cov_2:.6}\\t{cov_3:.6}\\t-\n",
    "Coeff. correlation\\t{cor_1:.6}\\t{cor_2:.6}\\t{cor_3:.6}\\t{cor_4:.6}\n",
    "''')"
   ]
  },
  {
   "cell_type": "code",
   "execution_count": 170,
   "metadata": {
    "scrolled": true
   },
   "outputs": [
    {
     "data": {
      "image/png": "[encoded data removed]",
      "text/plain": [
       "<Figure size 432x288 with 1 Axes>"
      ]
     },
     "metadata": {
      "needs_background": "light"
     },
     "output_type": "display_data"
    }
   ],
   "source": [
    "stats.probplot(zp, dist='norm', plot=pylab)\n",
    "pylab.show()"
   ]
  },
  {
   "cell_type": "code",
   "execution_count": 164,
   "metadata": {},
   "outputs": [
    {
     "data": {
      "image/png": "[encoded data removed]",
      "text/plain": [
       "<Figure size 432x288 with 1 Axes>"
      ]
     },
     "metadata": {
      "needs_background": "light"
     },
     "output_type": "display_data"
    }
   ],
   "source": [
    "stats.probplot(ks, dist='norm', plot=pylab)\n",
    "pylab.show()"
   ]
  },
  {
   "cell_type": "markdown",
   "metadata": {},
   "source": [
    "### 2.  Измерены значения IQ выборки студентов, обучающихся в местных технических вузах:\n",
    "131, 125, 115, 122, 131, 115, 107, 99, 125, 111.\n",
    "Известно, что в генеральной совокупности IQ распределен нормально.\n",
    "Найдите доверительный интервал для математического ожидания с надежностью 0.95.\n",
    "\n",
    "### Решение:"
   ]
  },
  {
   "cell_type": "code",
   "execution_count": 171,
   "metadata": {},
   "outputs": [
    {
     "name": "stdout",
     "output_type": "stream",
     "text": [
      "\n",
      "Среднее выборочное: 118.1\n",
      "Критерий Стьюдента для выборки из 10 значений (9 степеней свободы) и надежности 0.95: 2.262157\n",
      "Несмещенное среднеквадратичное отклонение: 10.54566788359614\n",
      "Доверительный интервал с доверительной вероятностью 0.95: [110.5561; 125.6439]\n",
      "\n"
     ]
    }
   ],
   "source": [
    "sample = np.array([131, 125, 115, 122, 131, 115, 107, 99, 125, 111])\n",
    "\n",
    "alpha = 0.95\n",
    "X = sample.mean()\n",
    "t = tcrit(n - 1, alpha + (1 - alpha) / 2)\n",
    "s = np.std(sample, ddof=1)\n",
    "n = sample.shape[0]\n",
    "\n",
    "T_1 = X - t * s / sqrt(n)\n",
    "T_2 = X + t * s / sqrt(n)\n",
    "\n",
    "print(f'''\n",
    "Среднее выборочное: {X}\n",
    "Критерий Стьюдента для выборки из {n} значений ({n - 1} степеней свободы) и с надежностью {alpha}: {t:0.7}\n",
    "Несмещенное среднеквадратичное отклонение: {s}\n",
    "Доверительный интервал с доверительной вероятностью 0.95: [{T_1:0.7}; {T_2:0.7}]\n",
    "''')"
   ]
  },
  {
   "cell_type": "markdown",
   "metadata": {},
   "source": [
    "### 3. Известно, что рост футболистов в сборной распределен нормально с дисперсией генеральной совокупности, равной 25 кв.см. Объем выборки равен 27, среднее выборочное составляет 174.2. Найдите доверительный интервал для математического ожидания с надежностью 0.95.\n",
    "\n",
    "### Решение:"
   ]
  },
  {
   "cell_type": "code",
   "execution_count": 173,
   "metadata": {},
   "outputs": [
    {
     "name": "stdout",
     "output_type": "stream",
     "text": [
      "\n",
      "Среднее выборочное: 174.2\n",
      "Z-критерий для выборки с надежностью 0.95: 1.959964\n",
      "Несмещенное среднеквадратичное отклонение: 5.0\n",
      "Доверительный интервал с доверительной вероятностью 0.95: [172.314; 176.086]\n",
      "\n"
     ]
    }
   ],
   "source": [
    "D = 25\n",
    "alpha = 0.95\n",
    "n = 27\n",
    "X = 174.2\n",
    "Z = stats.norm.ppf(alpha + (1 - alpha) / 2)\n",
    "s = sqrt(D)\n",
    "\n",
    "T_1 = X - Z * s / sqrt(n)\n",
    "T_2 = X + Z * s / sqrt(n)\n",
    "\n",
    "print(f'''\n",
    "Среднее выборочное: {X}\n",
    "Z-критерий для выборки с надежностью {alpha}: {Z:0.7}\n",
    "Несмещенное среднеквадратичное отклонение: {s}\n",
    "Доверительный интервал с доверительной вероятностью 0.95: [{T_1:0.7}; {T_2:0.7}]\n",
    "''')"
   ]
  }
 ],
 "metadata": {
  "kernelspec": {
   "display_name": "Python 3",
   "language": "python",
   "name": "python3"
  },
  "language_info": {
   "codemirror_mode": {
    "name": "ipython",
    "version": 3
   },
   "file_extension": ".py",
   "mimetype": "text/x-python",
   "name": "python",
   "nbconvert_exporter": "python",
   "pygments_lexer": "ipython3",
   "version": "3.7.3"
  }
 },
 "nbformat": 4,
 "nbformat_minor": 2
}
