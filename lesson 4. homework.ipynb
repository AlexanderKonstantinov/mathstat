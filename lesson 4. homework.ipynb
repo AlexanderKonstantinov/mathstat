{
 "cells": [
  {
   "cell_type": "code",
   "execution_count": 4,
   "metadata": {},
   "outputs": [
    {
     "name": "stdout",
     "output_type": "stream",
     "text": [
      "Didn't recognize theme name: ondork\n",
      "Available Themes: \n",
      "   chesterish\n",
      "   grade3\n",
      "   gruvboxd\n",
      "   gruvboxl\n",
      "   monokai\n",
      "   oceans16\n",
      "   onedork\n",
      "   solarizedd\n",
      "   solarizedl\n"
     ]
    }
   ],
   "source": [
    "from math import sqrt, exp, pi\n",
    "import matplotlib.pyplot as plt\n",
    "import numpy as np\n",
    "import scipy.stats as stats\n",
    "\n",
    "!jt -t ondork"
   ]
  },
  {
   "cell_type": "markdown",
   "metadata": {},
   "source": [
    "## Урок 4. Непрерывные случайные величины. Функция распределения и плотность распределения вероятностей. Равномерное и нормальное распределение. Центральная предельная теорема"
   ]
  },
  {
   "cell_type": "markdown",
   "metadata": {},
   "source": [
    "### 1. Случайная непрерывная величина A имеет равномерное распределение на промежутке (200, 800].\n",
    "### Найдите ее среднее значение и дисперсию.\n",
    "\n",
    "$$ \\begin{cases}\n",
    "0,\\ x\\leqslant a\\\\\n",
    "\\frac{x-a}{b-a} ,\\ a< x\\leqslant b\\\\\n",
    "1,\\ x >b\n",
    "\\end{cases} $$ "
   ]
  },
  {
   "cell_type": "markdown",
   "metadata": {},
   "source": [
    "### Решение:\n",
    "\n",
    "$ M( X) =\\frac{a+b}{2}, D( X) =\\frac{( a-b)^{2}}{12} $"
   ]
  },
  {
   "cell_type": "code",
   "execution_count": 12,
   "metadata": {},
   "outputs": [
    {
     "name": "stdout",
     "output_type": "stream",
     "text": [
      "\n",
      "Среднее значение (математическое ожидание) M(X) = 500.0\n",
      "Дисперсия составляет: D(X) = 30000.0\n",
      "\n"
     ]
    }
   ],
   "source": [
    "a = 200\n",
    "b = 800\n",
    "\n",
    "M_X = (a + b) / 2\n",
    "D_X = (a - b) ** 2 / 12\n",
    "\n",
    "print(f'''\n",
    "Среднее значение (математическое ожидание) M(X) = {M_X}\n",
    "Дисперсия составляет: D(X) = {D_X}\n",
    "''')"
   ]
  },
  {
   "cell_type": "markdown",
   "metadata": {},
   "source": [
    "### 2. О случайной непрерывной равномерно распределенной величине B известно, что ее дисперсия равна 0.2.\n",
    "### Можно ли найти правую границу величины B и ее среднее значение зная, что левая граница равна 0.5? Если да, найдите ее."
   ]
  },
  {
   "cell_type": "markdown",
   "metadata": {},
   "source": [
    "### Решение:\n",
    "\n",
    "$ b=a-\\sqrt{12\\cdot{D(X)}} $"
   ]
  },
  {
   "cell_type": "code",
   "execution_count": 3,
   "metadata": {},
   "outputs": [
    {
     "name": "stdout",
     "output_type": "stream",
     "text": [
      "\n",
      "Правая граница b = -1.0491933384829668\n",
      "Среднее значение (математическое ожидание) M(X) = -0.2745966692414834\n",
      "\n"
     ]
    }
   ],
   "source": [
    "a = 0.5\n",
    "D_X = 0.2\n",
    "\n",
    "b = a - sqrt(12 * D_X)\n",
    "M_X = (a + b) / 2\n",
    "\n",
    "print(f'''\n",
    "Правая граница b = {b}\n",
    "Среднее значение (математическое ожидание) M(X) = {M_X}\n",
    "''')"
   ]
  },
  {
   "cell_type": "markdown",
   "metadata": {},
   "source": [
    "### 3. Непрерывная случайная величина X распределена нормально и задана плотностью распределения\n",
    "### f(x) = (1 / (4 * sqrt(2*pi))) * (exp(-(x+2)**2) / 32).\n",
    "### Найдите:\n",
    "### а). M(X)\n",
    "### б). D(X)\n",
    "### в). std(X) (среднее квадратичное отклонение)"
   ]
  },
  {
   "cell_type": "markdown",
   "metadata": {},
   "source": [
    "### Решение:\n",
    "\n",
    "1) $ f( x) =\\frac{1}{4\\cdot \\sqrt{2\\pi }} \\cdot \\frac{e^{-( x+2)^{2}}}{32} $\n",
    "\n",
    "2) $ f( x) =\\frac{1}{4\\cdot \\sqrt{2\\cdot \\pi }} \\cdot e^{\\frac{-( x+2)^{2}}{32}} $"
   ]
  },
  {
   "cell_type": "code",
   "execution_count": 4,
   "metadata": {},
   "outputs": [
    {
     "name": "stdout",
     "output_type": "stream",
     "text": [
      "\n",
      "а) M(X) = -2\n",
      "б) D(X) = 16\n",
      "в) std(x) = 4\n",
      "\n"
     ]
    }
   ],
   "source": [
    "M_X = -2\n",
    "S_X = 4\n",
    "D_X = S_X ** 2\n",
    "\n",
    "print(f'''\n",
    "а) M(X) = {M_X}\n",
    "б) D(X) = {D_X}\n",
    "в) std(x) = {S_X}\n",
    "''')"
   ]
  },
  {
   "cell_type": "markdown",
   "metadata": {},
   "source": [
    "### 4. Рост взрослого населения города X имеет нормальное распределение.\n",
    "### Причем, средний рост равен 174 см, а среднее квадратичное отклонение равно 8 см.\n",
    "### Какова вероятность того, что случайным образом выбранный взрослый человек имеет рост:\n",
    "### а). больше 182 см\n",
    "### б). больше 190 см\n",
    "### в). от 166 см до 190 см\n",
    "### г). от 166 см до 182 см\n",
    "### д). от 158 см до 190 см\n",
    "### е). не выше 150 см или не ниже 190 см\n",
    "### ё). не выше 150 см или не ниже 198 см\n",
    "### ж). ниже 166 см."
   ]
  },
  {
   "cell_type": "markdown",
   "metadata": {},
   "source": [
    "### Решение:\n",
    "\n",
    "$ Z=\\frac{x-M(X)}{S(X)} $  "
   ]
  },
  {
   "cell_type": "code",
   "execution_count": 5,
   "metadata": {},
   "outputs": [],
   "source": [
    "M_X = 174\n",
    "S_X = 8\n",
    "\n",
    "Z = lambda x: (x - M_X) / S_X\n",
    "\n",
    "pdf = lambda x: 1 / (S_X * sqrt(2 * pi)) * exp(-(M_X - x) ** 2 / (2 * S_X ** 2))\n",
    "cdf = lambda x: 100 * stats.norm.cdf(Z(x)) # percent"
   ]
  },
  {
   "cell_type": "code",
   "execution_count": 6,
   "metadata": {
    "scrolled": true
   },
   "outputs": [
    {
     "data": {
      "text/plain": [
       "<matplotlib.collections.PolyCollection at 0x225a81f7cc8>"
      ]
     },
     "execution_count": 6,
     "metadata": {},
     "output_type": "execute_result"
    },
    {
     "data": {
      "image/png": "[encoded data removed]",
      "text/plain": [
       "<Figure size 1152x360 with 2 Axes>"
      ]
     },
     "metadata": {
      "needs_background": "light"
     },
     "output_type": "display_data"
    }
   ],
   "source": [
    "fig, (ax1, ax2) = plt.subplots(1, 2)\n",
    "fig.suptitle('$\\mu = 100  \\sigma = 15$')\n",
    "fig.set_size_inches(16,5)\n",
    "\n",
    "x_1 = np.linspace(M_X - 3 * S_X, M_X + 3 * S_X, 100)\n",
    "y_1 = [pdf(x) for x in x_1]\n",
    "\n",
    "ax1.plot(x_1, y_1, color='gray')\n",
    "ax1.grid(True)\n",
    "ax1.set_title('Probability Density Function')\n",
    "ax1.set_xlabel('height, cm')\n",
    "ax1.set_ylabel('density, $cm^{-1}$')\n",
    "ax1.fill_between(x_1, y_1, 0, color='#c0f0c0')\n",
    "\n",
    "x_2 = np.linspace(M_X - 3 * S_X, M_X + 3 * S_X, 100)\n",
    "y_2 = [cdf(x) for x in x_2]\n",
    "\n",
    "ax2.plot(x_2, y_2, color='gray')\n",
    "ax2.grid(True)\n",
    "ax2.set_title('Cumulative Distribution Function')\n",
    "ax2.set_xlabel('height, cm')\n",
    "ax2.set_ylabel('probability, %')\n",
    "ax2.fill_between(x_2, y_2, 0, color='#c0f0c0')"
   ]
  },
  {
   "cell_type": "code",
   "execution_count": 7,
   "metadata": {
    "scrolled": true
   },
   "outputs": [
    {
     "name": "stdout",
     "output_type": "stream",
     "text": [
      "\n",
      "a) 15.87 % имеет рост больше 182 см\n",
      "б) 2.275 % имеет рост больше 190 см\n",
      "в) 81.86 % имеет рост от 166 до 190 см\n",
      "г) 68.27 % имеет рост от 166 до 182 см\n",
      "д) 95.45 % имеет рост от 158 до 190 см\n",
      "у) 2.41 % имеет рост не выше 150 или не ниже 190 см\n",
      "ё) 0.27 % имеет рост не выше 150 или не ниже 198 см\n",
      "ж) 15.87 % имеет рост ниже 166 см\n",
      "\n"
     ]
    }
   ],
   "source": [
    "p_1 = 100 - cdf(182)\n",
    "p_2 = 100 - cdf(190)\n",
    "p_3 = cdf(190) - cdf(166)\n",
    "p_4 = cdf(182) - cdf(166)\n",
    "p_5 = cdf(190) - cdf(158)\n",
    "p_6 = 100 - cdf(190) + cdf(150)\n",
    "p_7 = 100 - cdf(198) + cdf(150)\n",
    "p_8 = cdf(166)\n",
    "\n",
    "print(f'''\n",
    "a) {p_1:.4} % имеет рост больше 182 см\n",
    "б) {p_2:.4} % имеет рост больше 190 см\n",
    "в) {p_3:.4} % имеет рост от 166 до 190 см\n",
    "г) {p_4:.4} % имеет рост от 166 до 182 см\n",
    "д) {p_5:.4} % имеет рост от 158 до 190 см\n",
    "у) {p_6:.4} % имеет рост не выше 150 или не ниже 190 см\n",
    "ё) {p_7:.4} % имеет рост не выше 150 или не ниже 198 см\n",
    "ж) {p_8:.4} % имеет рост ниже 166 см\n",
    "''')"
   ]
  },
  {
   "cell_type": "markdown",
   "metadata": {},
   "source": [
    "### 5. На сколько сигм (средних квадратичных отклонений) отклоняется рост человека, равный 190 см, от математического ожидания роста в популяции, в которой M(X) = 178 см и D(X) = 25 кв.см?"
   ]
  },
  {
   "cell_type": "markdown",
   "metadata": {},
   "source": [
    "### Решение:"
   ]
  },
  {
   "cell_type": "code",
   "execution_count": 8,
   "metadata": {},
   "outputs": [
    {
     "name": "stdout",
     "output_type": "stream",
     "text": [
      "Рост человека в 190 см отклоняется от среднего роста популяции на 2.4σ\n"
     ]
    }
   ],
   "source": [
    "height = 190\n",
    "M_X = 178\n",
    "D_X = 25\n",
    "\n",
    "S_X = sqrt(25)\n",
    "\n",
    "Z = (height - M_X) / S_X\n",
    "\n",
    "print(f'Рост человека в 190 см отклоняется от среднего роста популяции на {Z}\\N{greek small letter sigma}')"
   ]
  }
 ],
 "metadata": {
  "kernelspec": {
   "display_name": "Python 3",
   "language": "python",
   "name": "python3"
  },
  "language_info": {
   "codemirror_mode": {
    "name": "ipython",
    "version": 3
   },
   "file_extension": ".py",
   "mimetype": "text/x-python",
   "name": "python",
   "nbconvert_exporter": "python",
   "pygments_lexer": "ipython3",
   "version": "3.7.6"
  }
 },
 "nbformat": 4,
 "nbformat_minor": 4
}
