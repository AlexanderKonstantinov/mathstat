{
 "cells": [
  {
   "cell_type": "code",
   "execution_count": 1,
   "metadata": {},
   "outputs": [],
   "source": [
    "import numpy as np\n",
    "from scipy import stats"
   ]
  },
  {
   "cell_type": "code",
   "execution_count": 2,
   "metadata": {},
   "outputs": [],
   "source": [
    "def print_result(Fh, Fcrit, alpha):\n",
    "    print(f'''\n",
    "Расчётный критерий Фишера: {Fh}\n",
    "Табличный критерий Фишера для уровня значимости {alpha}: {Fcrit}\n",
    "Различие между группами статистически {'значимое'  if Fh > Fcrit else 'не значимое'}''')"
   ]
  },
  {
   "cell_type": "markdown",
   "metadata": {},
   "source": [
    "## Урок 8. Дисперсионный анализ. Логистическая регрессия"
   ]
  },
  {
   "cell_type": "markdown",
   "metadata": {},
   "source": [
    "### 1. Провести дисперсионный анализ для определения того, есть ли различия среднего роста среди взрослых футболистов, хоккеистов и штангистов.\n",
    "Даны значения роста в трех группах случайно выбранных спортсменов:  \n",
    "Футболисты: 173, 175, 180, 178, 177, 185, 183, 182.  \n",
    "Хоккеисты: 177, 179, 180, 188, 177, 172, 171, 184, 180.  \n",
    "Штангисты: 172, 173, 169, 177, 166, 180, 178, 177, 172, 166, 170.  "
   ]
  },
  {
   "cell_type": "code",
   "execution_count": 3,
   "metadata": {},
   "outputs": [],
   "source": [
    "# наблюдения в группах\n",
    "y1 = np.array([173, 175, 180, 178, 177, 185, 183, 182])\n",
    "y2 = np.array([177, 179, 180, 188, 177, 172, 171, 184, 180])\n",
    "y3 = np.array([172, 173, 169, 177, 166, 180, 178, 177, 172, 166, 170])\n",
    "\n",
    "# уровень значимости\n",
    "alpha = 0.05"
   ]
  },
  {
   "cell_type": "code",
   "execution_count": 4,
   "metadata": {},
   "outputs": [
    {
     "name": "stdout",
     "output_type": "stream",
     "text": [
      "\n",
      "Расчётный критерий Фишера: 5.500053450812598\n",
      "Табличный критерий Фишера для уровня значимости 0.05: 3.59\n",
      "Различие между группами статистически значимое\n"
     ]
    }
   ],
   "source": [
    "# РЕШЕНИЕ 1\n",
    "\n",
    "# количество степеней свободы (кол-во групп)\n",
    "k = 3\n",
    "\n",
    "# количество наблюдений по группам\n",
    "n1 = y1.shape[0]\n",
    "n2 = y2.shape[0]\n",
    "n3 = y3.shape[0]\n",
    "\n",
    "# общее кол-во наблюдений\n",
    "n = n1 + n2 + n3\n",
    "\n",
    "# средние значения по группам\n",
    "m1 = y1.mean()\n",
    "m2 = y2.mean()\n",
    "m3 = y3.mean()\n",
    "\n",
    "# общее среднее значение\n",
    "M = (y1.sum() + y2.sum() + y3.sum()) / n\n",
    "\n",
    "# сумма квадратов отклонений наблюдений от общего среднего\n",
    "Ss = ((y1 - M) ** 2).sum() + ((y2 - M) ** 2).sum() + ((y3 - M) ** 2).sum()\n",
    "\n",
    "# сумма квадратов отклонений средних групповых значений от общего среднего значения\n",
    "Ssf = ((m1 - M) ** 2 * n1) + ((m2 - M) ** 2 * n2) + ((m3 - M) ** 2 * n3)\n",
    "\n",
    "# остаточная сумма квадратов отклонений\n",
    "Sso = ((y1 - m1) ** 2).sum() + ((y2 - m2) ** 2).sum() + ((y3 - m3) ** 2).sum()\n",
    "\n",
    "# факторная дисперсия\n",
    "Df = Ssf / (k - 1)\n",
    "\n",
    "# остаточная дисперсия\n",
    "Do = Sso / (n - k)\n",
    "\n",
    "# критерий Фишера\n",
    "Fh = Df / Do\n",
    "\n",
    "# табличный критерий Фишера для уровня значимости alpha\n",
    "Fcrit = 3.59\n",
    "\n",
    "print_result(Fh, Fcrit, alpha)"
   ]
  },
  {
   "cell_type": "code",
   "execution_count": 5,
   "metadata": {},
   "outputs": [
    {
     "name": "stdout",
     "output_type": "stream",
     "text": [
      "\n",
      "Расчётный критерий Фишера: 5.500053450812596\n",
      "Табличный критерий Фишера для уровня значимости 0.05: 3.59\n",
      "Различие между группами статистически значимое\n"
     ]
    }
   ],
   "source": [
    "# РЕШЕНИЕ 2\n",
    "\n",
    "alpha = 0.05\n",
    "Fcrit = 3.59\n",
    "Fh = stats.f_oneway(y1, y2, y3)[0]\n",
    "\n",
    "print_result(Fh, Fcrit, alpha)"
   ]
  }
 ],
 "metadata": {
  "kernelspec": {
   "display_name": "Python 3",
   "language": "python",
   "name": "python3"
  },
  "language_info": {
   "codemirror_mode": {
    "name": "ipython",
    "version": 3
   },
   "file_extension": ".py",
   "mimetype": "text/x-python",
   "name": "python",
   "nbconvert_exporter": "python",
   "pygments_lexer": "ipython3",
   "version": "3.7.6"
  }
 },
 "nbformat": 4,
 "nbformat_minor": 4
}
