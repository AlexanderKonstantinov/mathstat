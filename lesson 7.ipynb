{
 "cells": [
  {
   "cell_type": "code",
   "execution_count": 1,
   "metadata": {},
   "outputs": [],
   "source": [
    "import numpy as np\n",
    "import pandas as pd\n",
    "import matplotlib.pyplot as plt\n",
    "%matplotlib inline"
   ]
  },
  {
   "cell_type": "code",
   "execution_count": 2,
   "metadata": {},
   "outputs": [],
   "source": [
    "def mse(y, y_hat):\n",
    "    return ((y - y_hat) ** 2).sum() / n"
   ]
  },
  {
   "cell_type": "markdown",
   "metadata": {},
   "source": [
    "## Урок 7. Многомерный статистический анализ. Линейная регрессия"
   ]
  },
  {
   "cell_type": "markdown",
   "metadata": {},
   "source": [
    "### 1. Даны значения величины заработной платы заемщиков банка (zp) и значения их поведенческого кредитного скоринга (ks): zp = [35, 45, 190, 200, 40, 70, 54, 150, 120, 110], ks = [401, 574, 874, 919, 459, 739, 653, 902, 746, 832]. Используя математические операции, посчитать коэффициенты линейной регрессии, приняв за X заработную плату (то есть, zp - признак), а за y - значения скорингового балла (то есть, ks - целевая переменная). Произвести расчет как с использованием intercept, так и без.\n",
    "\n",
    "### Решение:"
   ]
  },
  {
   "cell_type": "code",
   "execution_count": 3,
   "metadata": {},
   "outputs": [],
   "source": [
    "x = np.array([35, 45, 190, 200, 40, 70, 54, 150, 120, 110])      # zp  \n",
    "y = np.array([401, 574, 874, 919, 459, 739, 653, 902, 746, 832]) # ks\n",
    "n = x.shape[0]\n",
    "\n",
    "b_1 = (n * np.sum(x * y) - x.sum() * y.sum()) / (n * np.sum(x ** 2) - np.sum(x) ** 2)\n",
    "b_0 = y.mean() - b_1 * x.mean()"
   ]
  },
  {
   "cell_type": "code",
   "execution_count": 4,
   "metadata": {},
   "outputs": [],
   "source": [
    "y_hat_0 = b_0 + b_1 * x\n",
    "y_hat_1 = b_1 * x"
   ]
  },
  {
   "cell_type": "code",
   "execution_count": 5,
   "metadata": {
    "scrolled": true
   },
   "outputs": [
    {
     "data": {
      "image/png": "[encoded data removed]",
      "text/plain": [
       "<Figure size 432x288 with 1 Axes>"
      ]
     },
     "metadata": {
      "needs_background": "light"
     },
     "output_type": "display_data"
    }
   ],
   "source": [
    "plt.scatter(x, y, label='original data')\n",
    "plt.plot(x, y_hat_1, color='g', label='linear regression')\n",
    "plt.plot(x, y_hat_0, color='r', label='linear regression with intercept')\n",
    "\n",
    "plt.ylim(0, y.max() + 300)\n",
    "plt.legend(loc=\"upper left\")\n",
    "plt.show()"
   ]
  },
  {
   "cell_type": "code",
   "execution_count": 6,
   "metadata": {},
   "outputs": [
    {
     "data": {
      "text/html": [
       "<div>\n",
       "<style scoped>\n",
       "    .dataframe tbody tr th:only-of-type {\n",
       "        vertical-align: middle;\n",
       "    }\n",
       "\n",
       "    .dataframe tbody tr th {\n",
       "        vertical-align: top;\n",
       "    }\n",
       "\n",
       "    .dataframe thead th {\n",
       "        text-align: right;\n",
       "    }\n",
       "</style>\n",
       "<table border=\"1\" class=\"dataframe\">\n",
       "  <thead>\n",
       "    <tr style=\"text-align: right;\">\n",
       "      <th></th>\n",
       "      <th>x</th>\n",
       "      <th>original</th>\n",
       "      <th>linear regression</th>\n",
       "      <th>lin. reg. with intercept</th>\n",
       "    </tr>\n",
       "  </thead>\n",
       "  <tbody>\n",
       "    <tr>\n",
       "      <th>0</th>\n",
       "      <td></td>\n",
       "      <td>mse=0</td>\n",
       "      <td>mse=203763.93896082853</td>\n",
       "      <td>mse=6470.414201176658</td>\n",
       "    </tr>\n",
       "    <tr>\n",
       "      <th>1</th>\n",
       "      <td>45</td>\n",
       "      <td>574</td>\n",
       "      <td>117.924</td>\n",
       "      <td>562.102</td>\n",
       "    </tr>\n",
       "    <tr>\n",
       "      <th>2</th>\n",
       "      <td>190</td>\n",
       "      <td>874</td>\n",
       "      <td>497.902</td>\n",
       "      <td>942.08</td>\n",
       "    </tr>\n",
       "    <tr>\n",
       "      <th>3</th>\n",
       "      <td>200</td>\n",
       "      <td>919</td>\n",
       "      <td>524.108</td>\n",
       "      <td>968.285</td>\n",
       "    </tr>\n",
       "    <tr>\n",
       "      <th>4</th>\n",
       "      <td>40</td>\n",
       "      <td>459</td>\n",
       "      <td>104.822</td>\n",
       "      <td>548.999</td>\n",
       "    </tr>\n",
       "    <tr>\n",
       "      <th>5</th>\n",
       "      <td>70</td>\n",
       "      <td>739</td>\n",
       "      <td>183.438</td>\n",
       "      <td>627.615</td>\n",
       "    </tr>\n",
       "    <tr>\n",
       "      <th>6</th>\n",
       "      <td>54</td>\n",
       "      <td>653</td>\n",
       "      <td>141.509</td>\n",
       "      <td>585.686</td>\n",
       "    </tr>\n",
       "    <tr>\n",
       "      <th>7</th>\n",
       "      <td>150</td>\n",
       "      <td>902</td>\n",
       "      <td>393.081</td>\n",
       "      <td>837.258</td>\n",
       "    </tr>\n",
       "    <tr>\n",
       "      <th>8</th>\n",
       "      <td>120</td>\n",
       "      <td>746</td>\n",
       "      <td>314.465</td>\n",
       "      <td>758.642</td>\n",
       "    </tr>\n",
       "    <tr>\n",
       "      <th>9</th>\n",
       "      <td>110</td>\n",
       "      <td>832</td>\n",
       "      <td>288.259</td>\n",
       "      <td>732.437</td>\n",
       "    </tr>\n",
       "  </tbody>\n",
       "</table>\n",
       "</div>"
      ],
      "text/plain": [
       "     x original       linear regression lin. reg. with intercept\n",
       "0         mse=0  mse=203763.93896082853    mse=6470.414201176658\n",
       "1   45      574                 117.924                  562.102\n",
       "2  190      874                 497.902                   942.08\n",
       "3  200      919                 524.108                  968.285\n",
       "4   40      459                 104.822                  548.999\n",
       "5   70      739                 183.438                  627.615\n",
       "6   54      653                 141.509                  585.686\n",
       "7  150      902                 393.081                  837.258\n",
       "8  120      746                 314.465                  758.642\n",
       "9  110      832                 288.259                  732.437"
      ]
     },
     "execution_count": 6,
     "metadata": {},
     "output_type": "execute_result"
    }
   ],
   "source": [
    "df = pd.DataFrame(data={'x': x, \n",
    "                  'original': y, \n",
    "                  'linear regression': y_hat_1, \n",
    "                  'lin. reg. with intercept': y_hat_0})\n",
    "\n",
    "df.loc[0] = ['', 'mse=0', f'mse={mse(y, y_hat_1)}', f'mse={mse(y, y_hat_0)}']\n",
    "\n",
    "df"
   ]
  },
  {
   "cell_type": "markdown",
   "metadata": {},
   "source": [
    "### 2. Посчитать коэффициент линейной регрессии при заработной плате (zp), используя градиентный спуск (без intercept).\n",
    "\n",
    "### Решение:"
   ]
  },
  {
   "cell_type": "code",
   "execution_count": 7,
   "metadata": {
    "scrolled": true
   },
   "outputs": [
    {
     "name": "stdout",
     "output_type": "stream",
     "text": [
      "Iteration\tb1\t\tmse without intercept\n",
      "0\t\t0.00162283\t534163.57726276317\n",
      "10000\t\t5.51553990\t58446.76588620654\n",
      "20000\t\t5.86602945\t56524.65610949114\n",
      "30000\t\t5.88830816\t56516.88992190772\n",
      "40000\t\t5.88972429\t56516.85854301858\n",
      "50000\t\t5.88981431\t56516.85841623375\n",
      "51480\t\t?       \t56516.85841594691\n",
      "51481\t\t5.88981636\t56516.85841594682\n"
     ]
    }
   ],
   "source": [
    "alpha = 1e-8\n",
    "precision = 1e-10\n",
    "\n",
    "b1 = 0\n",
    "i = 0\n",
    "\n",
    "cur_mse_1 = mse(y, x * b1)\n",
    "prev_mse_1 = float(\"inf\")\n",
    "\n",
    "print('Iteration\\tb1\\t\\tmse without intercept')\n",
    "\n",
    "while True:    \n",
    "    if prev_mse_1 - cur_mse_1 > precision:\n",
    "        prev_mse_1 = cur_mse_1\n",
    "        b1 -= alpha * (2 / n) * np.sum((b1 * x - y) * x)  \n",
    "        cur_mse_1 = mse(y, x * b1)\n",
    "           \n",
    "    if i % 10000 == 0:\n",
    "        print(f'{i}\\t\\t{b1:.8f}\\t{cur_mse_1:.11f}')\n",
    "        \n",
    "    if prev_mse_1 - cur_mse_1 <= precision:\n",
    "        print(f'{i - 1}\\t\\t{\"?\":8}\\t{prev_mse_1:.11f}')\n",
    "        print(f'{i}\\t\\t{b1:.8f}\\t{cur_mse_1:.11f}')\n",
    "        break\n",
    "    \n",
    "    i += 1"
   ]
  },
  {
   "cell_type": "markdown",
   "metadata": {},
   "source": [
    "### 3. В каких случаях для вычисления доверительных интервалов и проверки статистических гипотез используется таблица значений функции Лапласа, а в каких - таблица критических точек распределения Стьюдента?\n",
    "\n",
    "### Решение:"
   ]
  },
  {
   "cell_type": "markdown",
   "metadata": {},
   "source": [
    "Таблица значений функции Лапласа используется в случае, если известно среднеквадратичное отклонение генеральной последовательности. Иначе используется таблица критических точек распределения Стьюдента."
   ]
  },
  {
   "cell_type": "markdown",
   "metadata": {},
   "source": [
    "### *4. Произвести вычисления как в пункте 2, но с вычислением intercept. Учесть, что изменение коэффициентов должно производиться на каждом шаге одновременно (то есть изменение одного коэффициента не должно влиять на изменение другого во время одной итерации).\n",
    "\n",
    "### Решение:"
   ]
  },
  {
   "cell_type": "code",
   "execution_count": 8,
   "metadata": {},
   "outputs": [
    {
     "name": "stdout",
     "output_type": "stream",
     "text": [
      "Iteration\tb1\t\tmse without intercept\t\tb0\tmse with intercept\n",
      "0\t\t0.00162283\t534163.57726276317\t\t0.001\t534162.15779287391\n",
      "10000\t\t5.51553990\t58446.76588620654\t\t10.001\t55533.99956499091\n",
      "20000\t\t5.86602945\t56524.65610949114\t\t20.001\t52321.08141010444\n",
      "30000\t\t5.88830816\t56516.88992190772\t\t30.001\t50647.19110867022\n",
      "40000\t\t5.88972429\t56516.85854301858\t\t40.001\t49102.15665252824\n",
      "50000\t\t5.88981431\t56516.85841623375\t\t50.001\t47749.45017412934\n",
      "60000\t\t5.88981636\t56516.85841594682\t\t60.001\t46596.03850918227\n",
      "70000\t\t5.88981636\t56516.85841594682\t\t70.001\t45642.60608209179\n",
      "80000\t\t5.88981636\t56516.85841594682\t\t80.001\t44889.17365500024\n",
      "90000\t\t5.88981636\t56516.85841594682\t\t90.001\t44335.74122791061\n",
      "100000\t\t5.88981636\t56516.85841594682\t\t100.001\t43982.30880082287\n",
      "110000\t\t5.88981636\t56516.85841594682\t\t110.001\t43828.87637373705\n",
      "112672\t\t?       \t56516.85841594691\t\t?  \t43821.73881322004\n",
      "112673\t\t5.88981636\t56516.85841594682\t\t112.674\t43821.73881497733\n"
     ]
    }
   ],
   "source": [
    "alpha = 1e-8\n",
    "beta = 1e-3\n",
    "precision = 1e-10\n",
    "\n",
    "b1 = b0 = 0\n",
    "i = 0\n",
    "\n",
    "cur_mse_1 = mse(y, x * b1)\n",
    "cur_mse_0 = mse(y, b0 + b1 * x)\n",
    "\n",
    "prev_mse_0 = prev_mse_1 = float(\"inf\")\n",
    "\n",
    "print('Iteration\\tb1\\t\\tmse without intercept\\t\\tb0\\tmse with intercept')\n",
    "\n",
    "while True:    \n",
    "    if prev_mse_1 - cur_mse_1 > precision:\n",
    "        prev_mse_1 = cur_mse_1\n",
    "        b1 -= alpha * (2 / n) * np.sum((b1 * x - y) * x)  \n",
    "        cur_mse_1 = mse(y, x * b1)\n",
    "        \n",
    "    if prev_mse_0 - cur_mse_0 > precision:\n",
    "        prev_mse_0 = cur_mse_0\n",
    "        b0 += beta\n",
    "        cur_mse_0 = mse(y, b0 + b1 * x)\n",
    "        \n",
    "    if i % 10000 == 0:\n",
    "        print(f'{i}\\t\\t{b1:.8f}\\t{cur_mse_1:.11f}\\t\\t{b0:.3f}\\t{cur_mse_0:.11f}')\n",
    "        \n",
    "    if prev_mse_1 - cur_mse_1 <= precision and prev_mse_0 - cur_mse_0 <= precision:\n",
    "        print(f'{i - 1}\\t\\t{\"?\":8}\\t{prev_mse_1:.11f}\\t\\t{\"?\":3}\\t{prev_mse_0:.11f}')\n",
    "        print(f'{i}\\t\\t{b1:.8f}\\t{cur_mse_1:.11f}\\t\\t{b0:.3f}\\t{cur_mse_0:.11f}')\n",
    "        break\n",
    "    \n",
    "    i += 1"
   ]
  },
  {
   "cell_type": "code",
   "execution_count": 9,
   "metadata": {},
   "outputs": [
    {
     "data": {
      "image/png": "[encoded data removed]",
      "text/plain": [
       "<Figure size 432x288 with 1 Axes>"
      ]
     },
     "metadata": {
      "needs_background": "light"
     },
     "output_type": "display_data"
    }
   ],
   "source": [
    "plt.scatter(x, y, label='original data')\n",
    "\n",
    "plt.plot(x, y_hat_1, color='g', label='linear regression')\n",
    "plt.plot(x, y_hat_0, color='r', label='linear regression with intercept')\n",
    "\n",
    "plt.plot(x, x * b1, color='b', label='gradient descent')\n",
    "plt.plot(x, b0 + b1 * x, color='orange', label='gradient descent with intercept')\n",
    "\n",
    "plt.ylim(0, y.max() + 500)\n",
    "plt.legend(loc=\"upper left\")\n",
    "plt.show()"
   ]
  },
  {
   "cell_type": "code",
   "execution_count": 10,
   "metadata": {},
   "outputs": [
    {
     "name": "stdout",
     "output_type": "stream",
     "text": [
      "\n",
      "method\\parameter\t\t\tb0\t\tb1\tmse\t\texpression\n",
      "linear regression\t\t\t444.17736\t0\t203763.93896\ty=2.62054x\n",
      "linear regression with intercept\t444.17736\t2.62054\t6470.41420\ty=444.17736+2.62054x\n",
      "gradient descent\t\t\t112.67400\t0\t56516.85842\ty=5.88982x\n",
      "gradient descent with intercept\t\t112.67400\t5.88982\t43821.73881\ty=112.67400+5.88982x\n",
      "\n"
     ]
    }
   ],
   "source": [
    "print(f'''\n",
    "method\\parameter\\t\\t\\tb0\\t\\tb1\\tmse\\t\\texpression\n",
    "linear regression\\t\\t\\t{b_0:.5f}\\t{0}\\t{mse(y, b_1 * x):.5f}\\ty={b_1:.5f}x\n",
    "linear regression with intercept\\t{b_0:.5f}\\t{b_1:.5f}\\t{mse(y, b_0 + b_1 * x):.5f}\\ty={b_0:.5f}+{b_1:.5f}x\n",
    "gradient descent\\t\\t\\t{b0:.5f}\\t{0}\\t{mse(y, b1 * x):.5f}\\ty={b1:.5f}x\n",
    "gradient descent with intercept\\t\\t{b0:.5f}\\t{b1:.5f}\\t{mse(y, b0 + b1 * x):.5f}\\ty={b0:.5f}+{b1:.5f}x\n",
    "''')"
   ]
  }
 ],
 "metadata": {
  "kernelspec": {
   "display_name": "Python 3",
   "language": "python",
   "name": "python3"
  },
  "language_info": {
   "codemirror_mode": {
    "name": "ipython",
    "version": 3
   },
   "file_extension": ".py",
   "mimetype": "text/x-python",
   "name": "python",
   "nbconvert_exporter": "python",
   "pygments_lexer": "ipython3",
   "version": "3.7.3"
  }
 },
 "nbformat": 4,
 "nbformat_minor": 2
}
